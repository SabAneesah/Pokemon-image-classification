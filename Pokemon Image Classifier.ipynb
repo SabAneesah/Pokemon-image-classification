{
 "cells": [
  {
   "cell_type": "code",
   "execution_count": 7,
   "id": "40126aa9-50b8-4f40-a591-630ee7a44b33",
   "metadata": {},
   "outputs": [],
   "source": [
    "import numpy as np\n",
    "import random\n",
    "import matplotlib.pyplot as plt\n",
    "import pandas as pd\n",
    "import cv2\n",
    "import os\n",
    "from tensorflow.keras.models import Sequential\n",
    "from tensorflow.keras.layers import Conv2D, MaxPooling2D, Dense, Flatten\n",
    "from sklearn.preprocessing import LabelEncoder\n",
    "from sklearn.model_selection import train_test_split"
   ]
  },
  {
   "cell_type": "code",
   "execution_count": 2,
   "id": "0609214f-0682-4c4a-a156-49db4881d8b5",
   "metadata": {},
   "outputs": [
    {
     "name": "stdout",
     "output_type": "stream",
     "text": [
      "Columns in the DataFrame: Index(['label', 'Type1', 'Type2', 'Evolution', 'filename'], dtype='object')\n"
     ]
    }
   ],
   "source": [
    "# Load the CSV file\n",
    "csv_file = 'data/pokemon.csv'  # Update this to your CSV file path\n",
    "data = pd.read_csv(csv_file)\n",
    "\n",
    "# Check the columns in the DataFrame\n",
    "print(\"Columns in the DataFrame:\", data.columns)\n",
    "\n",
    "# Directory containing the Pokémon images\n",
    "image_directory = 'data/pokemon_images'  # Your images folder path\n",
    "image_files = os.listdir(image_directory)"
   ]
  },
  {
   "cell_type": "code",
   "execution_count": 3,
   "id": "7a9da4b3-8989-44ea-b38e-3615d6bd3490",
   "metadata": {},
   "outputs": [
    {
     "name": "stdout",
     "output_type": "stream",
     "text": [
      "        label  Type1   Type2   Evolution        filename\n",
      "0   bulbasaur  Grass  Poison     ivysaur   bulbasaur.png\n",
      "1     ivysaur  Grass  Poison    venusaur     ivysaur.png\n",
      "2    venusaur  Grass  Poison         NaN    venusaur.png\n",
      "3  charmander   Fire     NaN  charmeleon  charmander.png\n",
      "4  charmeleon   Fire     NaN   charizard  charmeleon.png\n"
     ]
    }
   ],
   "source": [
    "# Populate the 'filename' column based on the labels\n",
    "def find_image_filename(label):\n",
    "    # Construct the expected filename (assuming images are named as 'label.jpg' or 'label.png')\n",
    "    for img in image_files:\n",
    "        if img.lower().startswith(label.lower()) and (img.endswith('.jpg') or img.endswith('.png')):\n",
    "            return img\n",
    "    return None  # Return None if no matching file is found\n",
    "\n",
    "# Create a new column 'filename' in the DataFrame\n",
    "data['filename'] = data['label'].apply(find_image_filename)\n",
    "\n",
    "# Check the updated DataFrame\n",
    "print(data.head())"
   ]
  },
  {
   "cell_type": "code",
   "execution_count": 27,
   "id": "353d9586-a91e-40c6-81c9-afdec12f1353",
   "metadata": {},
   "outputs": [],
   "source": [
    "# Load images and their corresponding labels\n",
    "X = []\n",
    "Y = []\n",
    "\n",
    "for index, row in data.iterrows():\n",
    "    img_path = os.path.join(image_directory, row['filename'])  # Construct the full image path\n",
    "    image = cv2.imread(img_path)  # Read the image\n",
    "\n",
    "    if image is not None:  # Check if the image was loaded successfully\n",
    "        image = cv2.resize(image, (100, 100))  # Resize to the desired input size\n",
    "        X.append(image)  # Append image to the list\n",
    "        Y.append(row['label'])  # Adjust to your actual label column\n",
    "    else:\n",
    "        print(f\"Warning: Unable to load image at path: {img_path}\")"
   ]
  },
  {
   "cell_type": "code",
   "execution_count": 28,
   "id": "1e12594b-a98d-4273-9868-f1bc99130bee",
   "metadata": {},
   "outputs": [],
   "source": [
    "# Convert lists to numpy arrays\n",
    "X = np.array(X)\n",
    "Y = np.array(Y)\n"
   ]
  },
  {
   "cell_type": "code",
   "execution_count": 29,
   "id": "fb53c6eb-f2e0-4b39-82c3-2607b8054a61",
   "metadata": {},
   "outputs": [],
   "source": [
    "# Encode labels to integers\n",
    "label_encoder = LabelEncoder()\n",
    "Y_encoded = label_encoder.fit_transform(Y)\n"
   ]
  },
  {
   "cell_type": "code",
   "execution_count": 9,
   "id": "b731a80a-8257-4e97-b906-9c7fe5d0c9ab",
   "metadata": {},
   "outputs": [],
   "source": [
    "# Split the dataset into training and testing sets\n",
    "X_train, X_test, Y_train, Y_test = train_test_split(X, Y_encoded, test_size=0.2, random_state=42)\n",
    "\n",
    "# Normalize the pixel values\n",
    "X_train = X_train / 255.0\n",
    "X_test = X_test / 255.0\n"
   ]
  },
  {
   "cell_type": "code",
   "execution_count": 30,
   "id": "e507374f-c185-4658-a7ce-880db97c7051",
   "metadata": {},
   "outputs": [],
   "source": [
    "from keras.layers import Input"
   ]
  },
  {
   "cell_type": "code",
   "execution_count": 31,
   "id": "aa5dd378-a700-43ee-8867-79c9df6ab91b",
   "metadata": {},
   "outputs": [],
   "source": [
    "# Build the model using Input layer\n",
    "model = Sequential([\n",
    "    Input(shape=(100, 100, 3)),  # Use Input layer to specify the shape\n",
    "    Conv2D(32, (3, 3), activation='relu'),\n",
    "    MaxPooling2D((2, 2)),\n",
    "    \n",
    "    Conv2D(64, (3, 3), activation='relu'),\n",
    "    MaxPooling2D((2, 2)),\n",
    "    \n",
    "    Flatten(),\n",
    "    Dense(128, activation='relu'),\n",
    "    Dense(len(label_encoder.classes_), activation='softmax')  # Output layer for number of classes\n",
    "])\n"
   ]
  },
  {
   "cell_type": "code",
   "execution_count": 32,
   "id": "af4fc966-de5e-4ddc-9df6-9cc9a2f5b2c6",
   "metadata": {},
   "outputs": [],
   "source": [
    "# Compile the model\n",
    "model.compile(loss='sparse_categorical_crossentropy', optimizer='adam', metrics=['accuracy'])\n"
   ]
  },
  {
   "cell_type": "code",
   "execution_count": 33,
   "id": "b7a0a93c-3f91-4308-9855-fcf9bba8c048",
   "metadata": {
    "scrolled": true
   },
   "outputs": [
    {
     "name": "stdout",
     "output_type": "stream",
     "text": [
      "Epoch 1/10\n",
      "\u001b[1m21/21\u001b[0m \u001b[32m━━━━━━━━━━━━━━━━━━━━\u001b[0m\u001b[37m\u001b[0m \u001b[1m18s\u001b[0m 171ms/step - accuracy: 0.0000e+00 - loss: 6.7320\n",
      "Epoch 2/10\n",
      "\u001b[1m21/21\u001b[0m \u001b[32m━━━━━━━━━━━━━━━━━━━━\u001b[0m\u001b[37m\u001b[0m \u001b[1m4s\u001b[0m 169ms/step - accuracy: 0.0159 - loss: 6.6894\n",
      "Epoch 3/10\n",
      "\u001b[1m21/21\u001b[0m \u001b[32m━━━━━━━━━━━━━━━━━━━━\u001b[0m\u001b[37m\u001b[0m \u001b[1m4s\u001b[0m 173ms/step - accuracy: 0.0090 - loss: 6.5905\n",
      "Epoch 4/10\n",
      "\u001b[1m21/21\u001b[0m \u001b[32m━━━━━━━━━━━━━━━━━━━━\u001b[0m\u001b[37m\u001b[0m \u001b[1m3s\u001b[0m 162ms/step - accuracy: 0.1228 - loss: 6.0382\n",
      "Epoch 5/10\n",
      "\u001b[1m21/21\u001b[0m \u001b[32m━━━━━━━━━━━━━━━━━━━━\u001b[0m\u001b[37m\u001b[0m \u001b[1m4s\u001b[0m 178ms/step - accuracy: 0.3873 - loss: 3.9627\n",
      "Epoch 6/10\n",
      "\u001b[1m21/21\u001b[0m \u001b[32m━━━━━━━━━━━━━━━━━━━━\u001b[0m\u001b[37m\u001b[0m \u001b[1m4s\u001b[0m 176ms/step - accuracy: 0.7772 - loss: 1.1669\n",
      "Epoch 7/10\n",
      "\u001b[1m21/21\u001b[0m \u001b[32m━━━━━━━━━━━━━━━━━━━━\u001b[0m\u001b[37m\u001b[0m \u001b[1m3s\u001b[0m 162ms/step - accuracy: 0.9569 - loss: 0.2414\n",
      "Epoch 8/10\n",
      "\u001b[1m21/21\u001b[0m \u001b[32m━━━━━━━━━━━━━━━━━━━━\u001b[0m\u001b[37m\u001b[0m \u001b[1m3s\u001b[0m 161ms/step - accuracy: 0.9961 - loss: 0.0493\n",
      "Epoch 9/10\n",
      "\u001b[1m21/21\u001b[0m \u001b[32m━━━━━━━━━━━━━━━━━━━━\u001b[0m\u001b[37m\u001b[0m \u001b[1m4s\u001b[0m 179ms/step - accuracy: 0.9918 - loss: 0.0425\n",
      "Epoch 10/10\n",
      "\u001b[1m21/21\u001b[0m \u001b[32m━━━━━━━━━━━━━━━━━━━━\u001b[0m\u001b[37m\u001b[0m \u001b[1m4s\u001b[0m 182ms/step - accuracy: 0.9929 - loss: 0.0156\n"
     ]
    },
    {
     "data": {
      "text/plain": [
       "<keras.src.callbacks.history.History at 0x24ccfc05880>"
      ]
     },
     "execution_count": 33,
     "metadata": {},
     "output_type": "execute_result"
    }
   ],
   "source": [
    "# Train the model\n",
    "model.fit(X_train, Y_train, epochs=10, batch_size=32)\n"
   ]
  },
  {
   "cell_type": "code",
   "execution_count": 15,
   "id": "46372f9f-e77f-4a4a-b645-da8911b905b5",
   "metadata": {},
   "outputs": [
    {
     "name": "stdout",
     "output_type": "stream",
     "text": [
      "\u001b[1m6/6\u001b[0m \u001b[32m━━━━━━━━━━━━━━━━━━━━\u001b[0m\u001b[37m\u001b[0m \u001b[1m11s\u001b[0m 87ms/step - accuracy: 0.0000e+00 - loss: 34.9016\n",
      "Test Loss: 34.89778518676758, Test Accuracy: 0.0\n"
     ]
    }
   ],
   "source": [
    "# Evaluate the model\n",
    "loss, accuracy = model.evaluate(X_test, Y_test)\n",
    "print(f'Test Loss: {loss}, Test Accuracy: {accuracy}')\n"
   ]
  },
  {
   "cell_type": "code",
   "execution_count": 26,
   "id": "a2e3dd0e-38c2-4481-ab74-46819d12cb87",
   "metadata": {
    "scrolled": true
   },
   "outputs": [
    {
     "name": "stdout",
     "output_type": "stream",
     "text": [
      "\u001b[1m1/1\u001b[0m \u001b[32m━━━━━━━━━━━━━━━━━━━━\u001b[0m\u001b[37m\u001b[0m \u001b[1m7s\u001b[0m 7s/step\n"
     ]
    },
    {
     "data": {
      "image/png": "[encoded data removed]",
      "text/plain": [
       "<Figure size 640x480 with 1 Axes>"
      ]
     },
     "metadata": {},
     "output_type": "display_data"
    }
   ],
   "source": [
    "# Visualize a sample image and its predicted label\n",
    "idx = np.random.randint(0, len(X_test))\n",
    "plt.imshow(X_test[idx])\n",
    "predicted_label = label_encoder.inverse_transform([model.predict(X_test[idx:idx+1]).argmax()])[0]\n",
    "plt.title(f'Predicted Label: {predicted_label}')\n",
    "plt.axis('off')\n",
    "plt.show()\n",
    "    "
   ]
  },
  {
   "cell_type": "code",
   "execution_count": 17,
   "id": "046a49c5-451e-4bd1-81e7-c6c370902376",
   "metadata": {},
   "outputs": [],
   "source": [
    "# Save the updated DataFrame back to CSV if needed\n",
    "data.to_csv(csv_file, index=False)  # This will overwrite the existing file\n"
   ]
  },
  {
   "cell_type": "code",
   "execution_count": 36,
   "id": "db00fad6-7291-460a-91aa-f050f3b2647a",
   "metadata": {},
   "outputs": [],
   "source": [
    "# Function to predict Pokémon image by name\n",
    "def predict_pokemon_image(pokemon_name):\n",
    "    # Load and preprocess the image\n",
    "    img_path = os.path.join(image_directory, f\"{pokemon_name}.png\")  # Adjust the format if necessary\n",
    "    image = cv2.imread(img_path)\n",
    "    \n",
    "    if image is None:\n",
    "        print(f\"No image found for {pokemon_name}.\")\n",
    "        return\n",
    "    \n",
    "    image_resized = cv2.resize(image, (100, 100))  # Resize to model input size\n",
    "    image_array = np.array(image_resized) / 255.0  # Normalize the image\n",
    "    image_array = np.expand_dims(image_array, axis=0)  # Add batch dimension\n",
    "    \n",
    "# Make predictions\n",
    "    prediction = model.predict(image_array)\n",
    "    predicted_class = np.argmax(prediction, axis=1)\n",
    "    predicted_label = label_encoder.inverse_transform(predicted_class)[0]\n",
    "    \n",
    "    # Display the image and prediction\n",
    "    plt.imshow(image)\n",
    "    plt.title(f'Predicted: {predicted_label}')\n",
    "    plt.axis('off')\n",
    "    plt.show()"
   ]
  },
  {
   "cell_type": "code",
   "execution_count": 39,
   "id": "d60792d7-e5ea-4e8d-81d4-739cc7133fb4",
   "metadata": {},
   "outputs": [
    {
     "name": "stdout",
     "output_type": "stream",
     "text": [
      "\u001b[1m1/1\u001b[0m \u001b[32m━━━━━━━━━━━━━━━━━━━━\u001b[0m\u001b[37m\u001b[0m \u001b[1m0s\u001b[0m 44ms/step\n"
     ]
    },
    {
     "data": {
      "image/png": "[encoded data removed]",
      "text/plain": [
       "<Figure size 640x480 with 1 Axes>"
      ]
     },
     "metadata": {},
     "output_type": "display_data"
    }
   ],
   "source": [
    "# Example usage\n",
    "pokemon_name = \"pikachu\"  # Replace with any Pokémon name\n",
    "predict_pokemon_image(pokemon_name)"
   ]
  }
 ],
 "metadata": {
  "kernelspec": {
   "display_name": "Python 3 (ipykernel)",
   "language": "python",
   "name": "python3"
  },
  "language_info": {
   "codemirror_mode": {
    "name": "ipython",
    "version": 3
   },
   "file_extension": ".py",
   "mimetype": "text/x-python",
   "name": "python",
   "nbconvert_exporter": "python",
   "pygments_lexer": "ipython3",
   "version": "3.12.4"
  }
 },
 "nbformat": 4,
 "nbformat_minor": 5
}
